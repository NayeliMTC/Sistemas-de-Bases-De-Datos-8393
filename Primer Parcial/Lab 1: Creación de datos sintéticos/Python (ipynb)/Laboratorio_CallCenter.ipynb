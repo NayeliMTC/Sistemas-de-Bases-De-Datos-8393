{
  "nbformat": 4,
  "nbformat_minor": 0,
  "metadata": {
    "colab": {
      "provenance": []
    },
    "kernelspec": {
      "name": "python3",
      "display_name": "Python 3"
    },
    "language_info": {
      "name": "python"
    }
  },
  "cells": [
    {
      "cell_type": "markdown",
      "source": [
        "#ENTIDAD: Call Center"
      ],
      "metadata": {
        "id": "JZNv4jkJQzld"
      }
    },
    {
      "cell_type": "code",
      "source": [
        "#!pip install Faker: Faker es un paquete de Python que genera datos falsos.\n",
        "!pip install Faker"
      ],
      "metadata": {
        "colab": {
          "base_uri": "https://localhost:8080/"
        },
        "id": "mJqAVteeRJ19",
        "outputId": "8bd7a289-0a5b-47d4-8d96-15a4574e1414"
      },
      "execution_count": 196,
      "outputs": [
        {
          "output_type": "stream",
          "name": "stdout",
          "text": [
            "Looking in indexes: https://pypi.org/simple, https://us-python.pkg.dev/colab-wheels/public/simple/\n",
            "Requirement already satisfied: Faker in /usr/local/lib/python3.7/dist-packages (15.3.2)\n",
            "Requirement already satisfied: python-dateutil>=2.4 in /usr/local/lib/python3.7/dist-packages (from Faker) (2.8.2)\n",
            "Requirement already satisfied: typing-extensions>=3.10.0.1 in /usr/local/lib/python3.7/dist-packages (from Faker) (4.1.1)\n",
            "Requirement already satisfied: six>=1.5 in /usr/local/lib/python3.7/dist-packages (from python-dateutil>=2.4->Faker) (1.15.0)\n"
          ]
        }
      ]
    },
    {
      "cell_type": "code",
      "source": [
        "#!pip install geocoder: Es un cliente de Python para varios servicios web de geocodificación populares\n",
        "!pip install geocoder"
      ],
      "metadata": {
        "colab": {
          "base_uri": "https://localhost:8080/"
        },
        "id": "FuJCOQPbiytM",
        "outputId": "39d0bfda-4bae-4ac3-883d-5a2782e0338a"
      },
      "execution_count": 197,
      "outputs": [
        {
          "output_type": "stream",
          "name": "stdout",
          "text": [
            "Looking in indexes: https://pypi.org/simple, https://us-python.pkg.dev/colab-wheels/public/simple/\n",
            "Requirement already satisfied: geocoder in /usr/local/lib/python3.7/dist-packages (1.38.1)\n",
            "Requirement already satisfied: ratelim in /usr/local/lib/python3.7/dist-packages (from geocoder) (0.1.6)\n",
            "Requirement already satisfied: six in /usr/local/lib/python3.7/dist-packages (from geocoder) (1.15.0)\n",
            "Requirement already satisfied: click in /usr/local/lib/python3.7/dist-packages (from geocoder) (7.1.2)\n",
            "Requirement already satisfied: requests in /usr/local/lib/python3.7/dist-packages (from geocoder) (2.23.0)\n",
            "Requirement already satisfied: future in /usr/local/lib/python3.7/dist-packages (from geocoder) (0.16.0)\n",
            "Requirement already satisfied: decorator in /usr/local/lib/python3.7/dist-packages (from ratelim->geocoder) (4.4.2)\n",
            "Requirement already satisfied: certifi>=2017.4.17 in /usr/local/lib/python3.7/dist-packages (from requests->geocoder) (2022.9.24)\n",
            "Requirement already satisfied: idna<3,>=2.5 in /usr/local/lib/python3.7/dist-packages (from requests->geocoder) (2.10)\n",
            "Requirement already satisfied: urllib3!=1.25.0,!=1.25.1,<1.26,>=1.21.1 in /usr/local/lib/python3.7/dist-packages (from requests->geocoder) (1.24.3)\n",
            "Requirement already satisfied: chardet<4,>=3.0.2 in /usr/local/lib/python3.7/dist-packages (from requests->geocoder) (3.0.4)\n"
          ]
        }
      ]
    },
    {
      "cell_type": "code",
      "source": [
        "#Librerías necesarias para la generación de datos.\n",
        "import pandas as pd\n",
        "import uuid\n",
        "import random\n",
        "from faker import Faker\n",
        "import datetime\n",
        "\n",
        "#Librerías para generar número de teléfono.\n",
        "import random as r\n",
        "from random import seed\n",
        "from datetime import datetime"
      ],
      "metadata": {
        "id": "HjS2GGw1SsEN"
      },
      "execution_count": 198,
      "outputs": []
    },
    {
      "cell_type": "code",
      "source": [
        "#Variable asignada para el tamaño del conjunto de datos. \n",
        "num_iess = 5000"
      ],
      "metadata": {
        "id": "RSAayA6vSwrU"
      },
      "execution_count": 199,
      "outputs": []
    },
    {
      "cell_type": "code",
      "source": [
        "#Lista de 4 características (Atributos)\n",
        "features = [\n",
        "    \"idcallcenter\",\n",
        "    #Genero no es un atributo.\n",
        "    \"genero\",\n",
        "    \"nombrecallcenter\",\n",
        "    \"telefonocallcenter\",\n",
        "]# Creando un DF para estas características\n",
        "df = pd.DataFrame(columns=features)"
      ],
      "metadata": {
        "id": "zubeo3oMS1BE"
      },
      "execution_count": 200,
      "outputs": []
    },
    {
      "cell_type": "markdown",
      "source": [
        "**idcall**"
      ],
      "metadata": {
        "id": "5gpQCkMBTpU0"
      }
    },
    {
      "cell_type": "code",
      "source": [
        "#Uso de la biblioteca uuid para generar cadena aleatoria de datos para la ID del Call Center.\n",
        "df['idcallcenter'] = [uuid.uuid4().hex for i in range(num_iess)]"
      ],
      "metadata": {
        "id": "NtagAbB2T0hj"
      },
      "execution_count": 201,
      "outputs": []
    },
    {
      "cell_type": "code",
      "source": [
        "#Genera identificaciones únicas para cada usuario. Si todas las ID en el conjunto de datos son únicas, devuelve True.\n",
        "print(df['idcallcenter'].nunique()==num_iess)"
      ],
      "metadata": {
        "colab": {
          "base_uri": "https://localhost:8080/"
        },
        "id": "ZDK9JFnqVNVM",
        "outputId": "907e34ad-d8ce-4811-bf91-9acc8d61711e"
      },
      "execution_count": 202,
      "outputs": [
        {
          "output_type": "stream",
          "name": "stdout",
          "text": [
            "True\n"
          ]
        }
      ]
    },
    {
      "cell_type": "markdown",
      "source": [
        "**nombrecall**"
      ],
      "metadata": {
        "id": "tzKqHCZmVZrE"
      }
    },
    {
      "cell_type": "code",
      "source": [
        "#Variable para los géneros para la creación de los nombres.\n",
        "genero = [\"female\", \"male\"]"
      ],
      "metadata": {
        "id": "8hPdC4bfcnZ0"
      },
      "execution_count": 203,
      "outputs": []
    },
    {
      "cell_type": "code",
      "source": [
        "#Nombres.\n",
        "df['genero']= random.choices(\n",
        "    genero, \n",
        "    weights=(30,30), \n",
        "    k=num_iess)"
      ],
      "metadata": {
        "id": "PszV8bTpczYD"
      },
      "execution_count": 204,
      "outputs": []
    },
    {
      "cell_type": "code",
      "source": [
        "#Instancia Faker\n",
        "faker = Faker()\n",
        "#Función.\n",
        "def name_gen(genero):\n",
        "    #Para masculino\n",
        "    if genero=='male':\n",
        "        return faker.name_male()\n",
        "    #Para femenino\n",
        "    elif genero=='female':\n",
        "        return faker.name_female()\n",
        "    #Genera los nombres\n",
        "    return faker.name()\n",
        "df['nombrecallcenter'] = [name_gen(i) for i in df['genero']]"
      ],
      "metadata": {
        "id": "9rtqY3M9c-eV"
      },
      "execution_count": 205,
      "outputs": []
    },
    {
      "cell_type": "markdown",
      "source": [
        "**telefonocallcenter**"
      ],
      "metadata": {
        "id": "bhrzwmd5fIns"
      }
    },
    {
      "cell_type": "code",
      "source": [
        "numero=[]\n",
        "#Cantidad de números para la cadena..\n",
        "size = 10\n",
        "for i in range(0, num_iess):\n",
        "  random.seed(datetime.now())\n",
        "  #Números opcionales para formar la cadena.\n",
        "  valores = [0,1,2,3,4,5,6,7,8,9]\n",
        "  numero=(''.join([str(random.choice(valores)) for i in range(size)]))\n",
        "  #Se guarda los números en telefonocallcenter.\n",
        "  df.telefonocallcenter[i]=numero"
      ],
      "metadata": {
        "id": "3VesCvO2fYcM"
      },
      "execution_count": 206,
      "outputs": []
    },
    {
      "cell_type": "code",
      "source": [
        "del(df['genero'])"
      ],
      "metadata": {
        "id": "DZTOvspFp-Hm"
      },
      "execution_count": 207,
      "outputs": []
    },
    {
      "cell_type": "code",
      "source": [
        "df.to_csv('iesscallcenter.csv')"
      ],
      "metadata": {
        "id": "efTo28hXitsy"
      },
      "execution_count": 208,
      "outputs": []
    },
    {
      "cell_type": "code",
      "source": [
        "df.head(5)"
      ],
      "metadata": {
        "colab": {
          "base_uri": "https://localhost:8080/",
          "height": 206
        },
        "id": "SuXtRJKsdS0N",
        "outputId": "70601ec3-599b-421e-ed29-1400906faa4b"
      },
      "execution_count": 209,
      "outputs": [
        {
          "output_type": "execute_result",
          "data": {
            "text/plain": [
              "                       idcallcenter  nombrecallcenter telefonocallcenter\n",
              "0  6fb5bfc903574184880a5b02a985482b     Amanda Palmer         5684177191\n",
              "1  8e7ddca8a2114bb987d8e0ebff66a9c2  Cheyenne Sanders         5102762627\n",
              "2  033beaae697b452f87689b588d174b98   Jillian Johnson         8609315451\n",
              "3  dab515733bb443d9ab38d593c359c405    Albert Leblanc         5078290284\n",
              "4  c01913d304b54c7989e0198d0291e6f9      Lauren Smith         1368484483"
            ],
            "text/html": [
              "\n",
              "  <div id=\"df-8531eb4e-2d20-4a28-84f9-82773ad1ea96\">\n",
              "    <div class=\"colab-df-container\">\n",
              "      <div>\n",
              "<style scoped>\n",
              "    .dataframe tbody tr th:only-of-type {\n",
              "        vertical-align: middle;\n",
              "    }\n",
              "\n",
              "    .dataframe tbody tr th {\n",
              "        vertical-align: top;\n",
              "    }\n",
              "\n",
              "    .dataframe thead th {\n",
              "        text-align: right;\n",
              "    }\n",
              "</style>\n",
              "<table border=\"1\" class=\"dataframe\">\n",
              "  <thead>\n",
              "    <tr style=\"text-align: right;\">\n",
              "      <th></th>\n",
              "      <th>idcallcenter</th>\n",
              "      <th>nombrecallcenter</th>\n",
              "      <th>telefonocallcenter</th>\n",
              "    </tr>\n",
              "  </thead>\n",
              "  <tbody>\n",
              "    <tr>\n",
              "      <th>0</th>\n",
              "      <td>6fb5bfc903574184880a5b02a985482b</td>\n",
              "      <td>Amanda Palmer</td>\n",
              "      <td>5684177191</td>\n",
              "    </tr>\n",
              "    <tr>\n",
              "      <th>1</th>\n",
              "      <td>8e7ddca8a2114bb987d8e0ebff66a9c2</td>\n",
              "      <td>Cheyenne Sanders</td>\n",
              "      <td>5102762627</td>\n",
              "    </tr>\n",
              "    <tr>\n",
              "      <th>2</th>\n",
              "      <td>033beaae697b452f87689b588d174b98</td>\n",
              "      <td>Jillian Johnson</td>\n",
              "      <td>8609315451</td>\n",
              "    </tr>\n",
              "    <tr>\n",
              "      <th>3</th>\n",
              "      <td>dab515733bb443d9ab38d593c359c405</td>\n",
              "      <td>Albert Leblanc</td>\n",
              "      <td>5078290284</td>\n",
              "    </tr>\n",
              "    <tr>\n",
              "      <th>4</th>\n",
              "      <td>c01913d304b54c7989e0198d0291e6f9</td>\n",
              "      <td>Lauren Smith</td>\n",
              "      <td>1368484483</td>\n",
              "    </tr>\n",
              "  </tbody>\n",
              "</table>\n",
              "</div>\n",
              "      <button class=\"colab-df-convert\" onclick=\"convertToInteractive('df-8531eb4e-2d20-4a28-84f9-82773ad1ea96')\"\n",
              "              title=\"Convert this dataframe to an interactive table.\"\n",
              "              style=\"display:none;\">\n",
              "        \n",
              "  <svg xmlns=\"http://www.w3.org/2000/svg\" height=\"24px\"viewBox=\"0 0 24 24\"\n",
              "       width=\"24px\">\n",
              "    <path d=\"M0 0h24v24H0V0z\" fill=\"none\"/>\n",
              "    <path d=\"M18.56 5.44l.94 2.06.94-2.06 2.06-.94-2.06-.94-.94-2.06-.94 2.06-2.06.94zm-11 1L8.5 8.5l.94-2.06 2.06-.94-2.06-.94L8.5 2.5l-.94 2.06-2.06.94zm10 10l.94 2.06.94-2.06 2.06-.94-2.06-.94-.94-2.06-.94 2.06-2.06.94z\"/><path d=\"M17.41 7.96l-1.37-1.37c-.4-.4-.92-.59-1.43-.59-.52 0-1.04.2-1.43.59L10.3 9.45l-7.72 7.72c-.78.78-.78 2.05 0 2.83L4 21.41c.39.39.9.59 1.41.59.51 0 1.02-.2 1.41-.59l7.78-7.78 2.81-2.81c.8-.78.8-2.07 0-2.86zM5.41 20L4 18.59l7.72-7.72 1.47 1.35L5.41 20z\"/>\n",
              "  </svg>\n",
              "      </button>\n",
              "      \n",
              "  <style>\n",
              "    .colab-df-container {\n",
              "      display:flex;\n",
              "      flex-wrap:wrap;\n",
              "      gap: 12px;\n",
              "    }\n",
              "\n",
              "    .colab-df-convert {\n",
              "      background-color: #E8F0FE;\n",
              "      border: none;\n",
              "      border-radius: 50%;\n",
              "      cursor: pointer;\n",
              "      display: none;\n",
              "      fill: #1967D2;\n",
              "      height: 32px;\n",
              "      padding: 0 0 0 0;\n",
              "      width: 32px;\n",
              "    }\n",
              "\n",
              "    .colab-df-convert:hover {\n",
              "      background-color: #E2EBFA;\n",
              "      box-shadow: 0px 1px 2px rgba(60, 64, 67, 0.3), 0px 1px 3px 1px rgba(60, 64, 67, 0.15);\n",
              "      fill: #174EA6;\n",
              "    }\n",
              "\n",
              "    [theme=dark] .colab-df-convert {\n",
              "      background-color: #3B4455;\n",
              "      fill: #D2E3FC;\n",
              "    }\n",
              "\n",
              "    [theme=dark] .colab-df-convert:hover {\n",
              "      background-color: #434B5C;\n",
              "      box-shadow: 0px 1px 3px 1px rgba(0, 0, 0, 0.15);\n",
              "      filter: drop-shadow(0px 1px 2px rgba(0, 0, 0, 0.3));\n",
              "      fill: #FFFFFF;\n",
              "    }\n",
              "  </style>\n",
              "\n",
              "      <script>\n",
              "        const buttonEl =\n",
              "          document.querySelector('#df-8531eb4e-2d20-4a28-84f9-82773ad1ea96 button.colab-df-convert');\n",
              "        buttonEl.style.display =\n",
              "          google.colab.kernel.accessAllowed ? 'block' : 'none';\n",
              "\n",
              "        async function convertToInteractive(key) {\n",
              "          const element = document.querySelector('#df-8531eb4e-2d20-4a28-84f9-82773ad1ea96');\n",
              "          const dataTable =\n",
              "            await google.colab.kernel.invokeFunction('convertToInteractive',\n",
              "                                                     [key], {});\n",
              "          if (!dataTable) return;\n",
              "\n",
              "          const docLinkHtml = 'Like what you see? Visit the ' +\n",
              "            '<a target=\"_blank\" href=https://colab.research.google.com/notebooks/data_table.ipynb>data table notebook</a>'\n",
              "            + ' to learn more about interactive tables.';\n",
              "          element.innerHTML = '';\n",
              "          dataTable['output_type'] = 'display_data';\n",
              "          await google.colab.output.renderOutput(dataTable, element);\n",
              "          const docLink = document.createElement('div');\n",
              "          docLink.innerHTML = docLinkHtml;\n",
              "          element.appendChild(docLink);\n",
              "        }\n",
              "      </script>\n",
              "    </div>\n",
              "  </div>\n",
              "  "
            ]
          },
          "metadata": {},
          "execution_count": 209
        }
      ]
    }
  ]
}