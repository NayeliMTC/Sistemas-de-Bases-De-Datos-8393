{
  "nbformat": 4,
  "nbformat_minor": 0,
  "metadata": {
    "colab": {
      "provenance": []
    },
    "kernelspec": {
      "name": "python3",
      "display_name": "Python 3"
    },
    "language_info": {
      "name": "python"
    }
  },
  "cells": [
    {
      "cell_type": "markdown",
      "source": [
        "#ENTIDAD: Permisos"
      ],
      "metadata": {
        "id": "8U17x_IMrRW0"
      }
    },
    {
      "cell_type": "code",
      "source": [
        "#!pip install Faker: Faker es un paquete de Python que genera datos falsos.\n",
        "!pip install Faker"
      ],
      "metadata": {
        "colab": {
          "base_uri": "https://localhost:8080/"
        },
        "id": "BCqvbHu_q1i0",
        "outputId": "8e80be26-0010-46d6-a805-6ccc6597923c"
      },
      "execution_count": 57,
      "outputs": [
        {
          "output_type": "stream",
          "name": "stdout",
          "text": [
            "Looking in indexes: https://pypi.org/simple, https://us-python.pkg.dev/colab-wheels/public/simple/\n",
            "Requirement already satisfied: Faker in /usr/local/lib/python3.7/dist-packages (15.3.2)\n",
            "Requirement already satisfied: typing-extensions>=3.10.0.1 in /usr/local/lib/python3.7/dist-packages (from Faker) (4.1.1)\n",
            "Requirement already satisfied: python-dateutil>=2.4 in /usr/local/lib/python3.7/dist-packages (from Faker) (2.8.2)\n",
            "Requirement already satisfied: six>=1.5 in /usr/local/lib/python3.7/dist-packages (from python-dateutil>=2.4->Faker) (1.15.0)\n"
          ]
        }
      ]
    },
    {
      "cell_type": "code",
      "source": [
        "#Librerías necesarias para la generación de datos.\n",
        "import pandas as pd\n",
        "import uuid\n",
        "import random\n",
        "from faker import Faker\n",
        "import datetime\n",
        "\n",
        "#Librerías necesarias para la descripción.\n",
        "import string\n",
        "import random\n",
        "from random import seed\n",
        "from datetime import datetime"
      ],
      "metadata": {
        "id": "qME8q7KVq7WU"
      },
      "execution_count": 58,
      "outputs": []
    },
    {
      "cell_type": "code",
      "source": [
        "#Variable asignada para el tamaño del conjunto de datos. \n",
        "num_iess = 5000"
      ],
      "metadata": {
        "id": "Y6f2gqEuq7T_"
      },
      "execution_count": 59,
      "outputs": []
    },
    {
      "cell_type": "code",
      "source": [
        "#Lista de 4 características (Atributos)\n",
        "features = [\n",
        "    \"idpermiso\",\n",
        "    \"nombrepermiso\",\n",
        "    \"descripcionpermiso\",\n",
        "    \"statuspermiso\",\n",
        "]# Creando un DF para estas características\n",
        "df = pd.DataFrame(columns=features)"
      ],
      "metadata": {
        "id": "huFngqvarMaE"
      },
      "execution_count": 60,
      "outputs": []
    },
    {
      "cell_type": "markdown",
      "source": [
        "**idpermiso**"
      ],
      "metadata": {
        "id": "ESJEfSnProlD"
      }
    },
    {
      "cell_type": "code",
      "source": [
        "#Uso de la biblioteca uuid para generar cadena aleatoria de datos para la ID del Permiso.\n",
        "df['idpermiso'] = [uuid.uuid4().hex for i in range(num_iess)]"
      ],
      "metadata": {
        "id": "KVmPPlNJrzs7"
      },
      "execution_count": 61,
      "outputs": []
    },
    {
      "cell_type": "code",
      "source": [
        "#Genera identificaciones únicas para cada permiso. Si todas las ID en el conjunto de datos son únicas, devuelve True.\n",
        "print(df['idpermiso'].nunique()==num_iess)"
      ],
      "metadata": {
        "colab": {
          "base_uri": "https://localhost:8080/"
        },
        "id": "RUj8bMlEr-tL",
        "outputId": "47de6e80-4100-4a3e-d990-336e54c39101"
      },
      "execution_count": 62,
      "outputs": [
        {
          "output_type": "stream",
          "name": "stdout",
          "text": [
            "True\n"
          ]
        }
      ]
    },
    {
      "cell_type": "markdown",
      "source": [
        "**nombrepermiso**"
      ],
      "metadata": {
        "id": "AkiCGpS8sO6U"
      }
    },
    {
      "cell_type": "code",
      "source": [
        "#Existen algunos nombres de permiso (Read, Create, Update, Delete)\n",
        "nombrepermiso = ['Read','Create','Update','Delete']\n",
        "#Se asignan los permisos aleatoriamente.\n",
        "df['nombrepermiso'] = random.choices(\n",
        "    nombrepermiso, \n",
        "    weights=(25,25,25,25), \n",
        "    k=num_iess)"
      ],
      "metadata": {
        "id": "CUpqmbwAsiTL"
      },
      "execution_count": 63,
      "outputs": []
    },
    {
      "cell_type": "markdown",
      "source": [
        "**descripcionpermiso**"
      ],
      "metadata": {
        "id": "oQDPKWcutHyz"
      }
    },
    {
      "cell_type": "code",
      "source": [
        "#Variale para la descripción de tipo string junto con su longitud de cadena de caracteres\n",
        "bio=[]\n",
        "length_of_string = 25\n",
        "#Crea la descripción de los permisos.\n",
        "for i in range(0, num_iess):\n",
        "  random.seed(datetime.now())\n",
        "  #La descripcion contendra todo tipo de caracteres.\n",
        "  bio=(''.join(random.SystemRandom().choice(string.ascii_letters + string.digits) for i in range(length_of_string)))\n",
        "  #Se guarda la descripcion en el atributo descripcionpermiso\n",
        "  df.descripcionpermiso[i] =bio"
      ],
      "metadata": {
        "id": "ifbYchmKtKXL"
      },
      "execution_count": 64,
      "outputs": []
    },
    {
      "cell_type": "markdown",
      "source": [
        "**statuspermiso**"
      ],
      "metadata": {
        "id": "NkJocMZQuL2q"
      }
    },
    {
      "cell_type": "code",
      "source": [
        "#Opciones de los estados a manejar.\n",
        "statuspermiso = [\"Activo\", \"Desactivo\"]"
      ],
      "metadata": {
        "id": "iJ4W-SWxuOOE"
      },
      "execution_count": 65,
      "outputs": []
    },
    {
      "cell_type": "code",
      "source": [
        "#Se guarda el estado generado aleatoriamente en el atributo statuspermiso\n",
        "df['statuspermiso']= random.choices(\n",
        "    statuspermiso, \n",
        "    weights=(50,20), \n",
        "    k=num_iess)"
      ],
      "metadata": {
        "id": "fsB1ygdIucCE"
      },
      "execution_count": 66,
      "outputs": []
    },
    {
      "cell_type": "code",
      "source": [
        "df.to_csv('iesspermisos.csv')"
      ],
      "metadata": {
        "id": "juXoWWYLixjR"
      },
      "execution_count": 67,
      "outputs": []
    },
    {
      "cell_type": "code",
      "source": [
        "df.head(5)"
      ],
      "metadata": {
        "colab": {
          "base_uri": "https://localhost:8080/",
          "height": 206
        },
        "id": "Z5LqsBvkt6gM",
        "outputId": "52ef104e-f0de-4470-dcea-30c3f34d5f40"
      },
      "execution_count": 68,
      "outputs": [
        {
          "output_type": "execute_result",
          "data": {
            "text/plain": [
              "                          idpermiso nombrepermiso         descripcionpermiso  \\\n",
              "0  b58cc9bfb49e42359a55d8efd18fe539          Read  Vf1AhuzSGR28CjI5cA3jBrMlk   \n",
              "1  2f1d68d752604586882f2904ffe13495        Create  a21R7bjvefTJ7Vs6H4SzVjDrV   \n",
              "2  3988846d03de41e3bb97f5e09854abea        Delete  KPtLIJIOKO7G7OjeVkZK41rbJ   \n",
              "3  f5e9dceef43944d186801d73ee965164          Read  UvqZ6c3K5L4yRq3yg9ZhBnGTN   \n",
              "4  fa7578e94499466f94649ae47c6dd89e        Delete  i6v3KzkBq4uR5r6q1nlkmTApZ   \n",
              "\n",
              "  statuspermiso  \n",
              "0        Activo  \n",
              "1        Activo  \n",
              "2        Activo  \n",
              "3        Activo  \n",
              "4        Activo  "
            ],
            "text/html": [
              "\n",
              "  <div id=\"df-bb51fbf8-a186-41dd-8451-5127d6929ad1\">\n",
              "    <div class=\"colab-df-container\">\n",
              "      <div>\n",
              "<style scoped>\n",
              "    .dataframe tbody tr th:only-of-type {\n",
              "        vertical-align: middle;\n",
              "    }\n",
              "\n",
              "    .dataframe tbody tr th {\n",
              "        vertical-align: top;\n",
              "    }\n",
              "\n",
              "    .dataframe thead th {\n",
              "        text-align: right;\n",
              "    }\n",
              "</style>\n",
              "<table border=\"1\" class=\"dataframe\">\n",
              "  <thead>\n",
              "    <tr style=\"text-align: right;\">\n",
              "      <th></th>\n",
              "      <th>idpermiso</th>\n",
              "      <th>nombrepermiso</th>\n",
              "      <th>descripcionpermiso</th>\n",
              "      <th>statuspermiso</th>\n",
              "    </tr>\n",
              "  </thead>\n",
              "  <tbody>\n",
              "    <tr>\n",
              "      <th>0</th>\n",
              "      <td>b58cc9bfb49e42359a55d8efd18fe539</td>\n",
              "      <td>Read</td>\n",
              "      <td>Vf1AhuzSGR28CjI5cA3jBrMlk</td>\n",
              "      <td>Activo</td>\n",
              "    </tr>\n",
              "    <tr>\n",
              "      <th>1</th>\n",
              "      <td>2f1d68d752604586882f2904ffe13495</td>\n",
              "      <td>Create</td>\n",
              "      <td>a21R7bjvefTJ7Vs6H4SzVjDrV</td>\n",
              "      <td>Activo</td>\n",
              "    </tr>\n",
              "    <tr>\n",
              "      <th>2</th>\n",
              "      <td>3988846d03de41e3bb97f5e09854abea</td>\n",
              "      <td>Delete</td>\n",
              "      <td>KPtLIJIOKO7G7OjeVkZK41rbJ</td>\n",
              "      <td>Activo</td>\n",
              "    </tr>\n",
              "    <tr>\n",
              "      <th>3</th>\n",
              "      <td>f5e9dceef43944d186801d73ee965164</td>\n",
              "      <td>Read</td>\n",
              "      <td>UvqZ6c3K5L4yRq3yg9ZhBnGTN</td>\n",
              "      <td>Activo</td>\n",
              "    </tr>\n",
              "    <tr>\n",
              "      <th>4</th>\n",
              "      <td>fa7578e94499466f94649ae47c6dd89e</td>\n",
              "      <td>Delete</td>\n",
              "      <td>i6v3KzkBq4uR5r6q1nlkmTApZ</td>\n",
              "      <td>Activo</td>\n",
              "    </tr>\n",
              "  </tbody>\n",
              "</table>\n",
              "</div>\n",
              "      <button class=\"colab-df-convert\" onclick=\"convertToInteractive('df-bb51fbf8-a186-41dd-8451-5127d6929ad1')\"\n",
              "              title=\"Convert this dataframe to an interactive table.\"\n",
              "              style=\"display:none;\">\n",
              "        \n",
              "  <svg xmlns=\"http://www.w3.org/2000/svg\" height=\"24px\"viewBox=\"0 0 24 24\"\n",
              "       width=\"24px\">\n",
              "    <path d=\"M0 0h24v24H0V0z\" fill=\"none\"/>\n",
              "    <path d=\"M18.56 5.44l.94 2.06.94-2.06 2.06-.94-2.06-.94-.94-2.06-.94 2.06-2.06.94zm-11 1L8.5 8.5l.94-2.06 2.06-.94-2.06-.94L8.5 2.5l-.94 2.06-2.06.94zm10 10l.94 2.06.94-2.06 2.06-.94-2.06-.94-.94-2.06-.94 2.06-2.06.94z\"/><path d=\"M17.41 7.96l-1.37-1.37c-.4-.4-.92-.59-1.43-.59-.52 0-1.04.2-1.43.59L10.3 9.45l-7.72 7.72c-.78.78-.78 2.05 0 2.83L4 21.41c.39.39.9.59 1.41.59.51 0 1.02-.2 1.41-.59l7.78-7.78 2.81-2.81c.8-.78.8-2.07 0-2.86zM5.41 20L4 18.59l7.72-7.72 1.47 1.35L5.41 20z\"/>\n",
              "  </svg>\n",
              "      </button>\n",
              "      \n",
              "  <style>\n",
              "    .colab-df-container {\n",
              "      display:flex;\n",
              "      flex-wrap:wrap;\n",
              "      gap: 12px;\n",
              "    }\n",
              "\n",
              "    .colab-df-convert {\n",
              "      background-color: #E8F0FE;\n",
              "      border: none;\n",
              "      border-radius: 50%;\n",
              "      cursor: pointer;\n",
              "      display: none;\n",
              "      fill: #1967D2;\n",
              "      height: 32px;\n",
              "      padding: 0 0 0 0;\n",
              "      width: 32px;\n",
              "    }\n",
              "\n",
              "    .colab-df-convert:hover {\n",
              "      background-color: #E2EBFA;\n",
              "      box-shadow: 0px 1px 2px rgba(60, 64, 67, 0.3), 0px 1px 3px 1px rgba(60, 64, 67, 0.15);\n",
              "      fill: #174EA6;\n",
              "    }\n",
              "\n",
              "    [theme=dark] .colab-df-convert {\n",
              "      background-color: #3B4455;\n",
              "      fill: #D2E3FC;\n",
              "    }\n",
              "\n",
              "    [theme=dark] .colab-df-convert:hover {\n",
              "      background-color: #434B5C;\n",
              "      box-shadow: 0px 1px 3px 1px rgba(0, 0, 0, 0.15);\n",
              "      filter: drop-shadow(0px 1px 2px rgba(0, 0, 0, 0.3));\n",
              "      fill: #FFFFFF;\n",
              "    }\n",
              "  </style>\n",
              "\n",
              "      <script>\n",
              "        const buttonEl =\n",
              "          document.querySelector('#df-bb51fbf8-a186-41dd-8451-5127d6929ad1 button.colab-df-convert');\n",
              "        buttonEl.style.display =\n",
              "          google.colab.kernel.accessAllowed ? 'block' : 'none';\n",
              "\n",
              "        async function convertToInteractive(key) {\n",
              "          const element = document.querySelector('#df-bb51fbf8-a186-41dd-8451-5127d6929ad1');\n",
              "          const dataTable =\n",
              "            await google.colab.kernel.invokeFunction('convertToInteractive',\n",
              "                                                     [key], {});\n",
              "          if (!dataTable) return;\n",
              "\n",
              "          const docLinkHtml = 'Like what you see? Visit the ' +\n",
              "            '<a target=\"_blank\" href=https://colab.research.google.com/notebooks/data_table.ipynb>data table notebook</a>'\n",
              "            + ' to learn more about interactive tables.';\n",
              "          element.innerHTML = '';\n",
              "          dataTable['output_type'] = 'display_data';\n",
              "          await google.colab.output.renderOutput(dataTable, element);\n",
              "          const docLink = document.createElement('div');\n",
              "          docLink.innerHTML = docLinkHtml;\n",
              "          element.appendChild(docLink);\n",
              "        }\n",
              "      </script>\n",
              "    </div>\n",
              "  </div>\n",
              "  "
            ]
          },
          "metadata": {},
          "execution_count": 68
        }
      ]
    }
  ]
}