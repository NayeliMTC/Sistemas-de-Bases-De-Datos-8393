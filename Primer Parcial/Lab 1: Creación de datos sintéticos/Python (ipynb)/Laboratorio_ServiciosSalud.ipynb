{
  "nbformat": 4,
  "nbformat_minor": 0,
  "metadata": {
    "colab": {
      "provenance": []
    },
    "kernelspec": {
      "name": "python3",
      "display_name": "Python 3"
    },
    "language_info": {
      "name": "python"
    }
  },
  "cells": [
    {
      "cell_type": "markdown",
      "source": [
        "#ENTIDAD: Servicios de salud."
      ],
      "metadata": {
        "id": "B8G4IosNvRsM"
      }
    },
    {
      "cell_type": "code",
      "execution_count": 92,
      "metadata": {
        "colab": {
          "base_uri": "https://localhost:8080/"
        },
        "id": "QzJsWbqmvGjh",
        "outputId": "b149f8b7-221e-4223-e62e-6e882b851e7a"
      },
      "outputs": [
        {
          "output_type": "stream",
          "name": "stdout",
          "text": [
            "Looking in indexes: https://pypi.org/simple, https://us-python.pkg.dev/colab-wheels/public/simple/\n",
            "Requirement already satisfied: Faker in /usr/local/lib/python3.7/dist-packages (15.3.2)\n",
            "Requirement already satisfied: python-dateutil>=2.4 in /usr/local/lib/python3.7/dist-packages (from Faker) (2.8.2)\n",
            "Requirement already satisfied: typing-extensions>=3.10.0.1 in /usr/local/lib/python3.7/dist-packages (from Faker) (4.1.1)\n",
            "Requirement already satisfied: six>=1.5 in /usr/local/lib/python3.7/dist-packages (from python-dateutil>=2.4->Faker) (1.15.0)\n"
          ]
        }
      ],
      "source": [
        "#!pip install Faker: Faker es un paquete de Python que genera datos falsos.\n",
        "!pip install Faker"
      ]
    },
    {
      "cell_type": "code",
      "source": [
        "#Librerías necesarias para la generación de datos.\n",
        "import pandas as pd\n",
        "import uuid\n",
        "import random\n",
        "from faker import Faker\n",
        "import datetime\n",
        "\n",
        "#Librerías necesarias para la descripción.\n",
        "import string\n",
        "import random\n",
        "from random import seed\n",
        "from datetime import datetime"
      ],
      "metadata": {
        "id": "PJrSmePpykRJ"
      },
      "execution_count": 93,
      "outputs": []
    },
    {
      "cell_type": "code",
      "source": [
        "#Variable asignada para el tamaño del conjunto de datos. \n",
        "num_iess = 5000"
      ],
      "metadata": {
        "id": "sImF5mQMyngR"
      },
      "execution_count": 94,
      "outputs": []
    },
    {
      "cell_type": "code",
      "source": [
        "#Lista de 4 características (Atributos)\n",
        "features = [\n",
        "    \"idservicio\",\n",
        "    \"nombreservicio\",\n",
        "    \"descripcionservicio\",\n",
        "    \"disponibleservicio\",\n",
        "]# Creando un DF para estas características\n",
        "df = pd.DataFrame(columns=features)"
      ],
      "metadata": {
        "id": "rW8w1Y0NyqCZ"
      },
      "execution_count": 95,
      "outputs": []
    },
    {
      "cell_type": "markdown",
      "source": [
        "**idservicio**"
      ],
      "metadata": {
        "id": "PNfTXwomy_Dj"
      }
    },
    {
      "cell_type": "code",
      "source": [
        "#Uso de la biblioteca uuid para generar cadena aleatoria de datos para la ID del Servicio.\n",
        "df['idservicio'] = [uuid.uuid4().hex for i in range(num_iess)]"
      ],
      "metadata": {
        "id": "N6gKzEOIzECR"
      },
      "execution_count": 96,
      "outputs": []
    },
    {
      "cell_type": "code",
      "source": [
        "#Genera identificaciones únicas para cada permiso. Si todas las ID en el conjunto de datos son únicas, devuelve True.\n",
        "print(df['idservicio'].nunique()==num_iess)"
      ],
      "metadata": {
        "colab": {
          "base_uri": "https://localhost:8080/"
        },
        "id": "hO8dRwJ1zL1B",
        "outputId": "80de1255-eb30-4220-f797-d280fcbb7660"
      },
      "execution_count": 97,
      "outputs": [
        {
          "output_type": "stream",
          "name": "stdout",
          "text": [
            "True\n"
          ]
        }
      ]
    },
    {
      "cell_type": "markdown",
      "source": [
        "**nombreservicio**"
      ],
      "metadata": {
        "id": "6aR8-K6CzWMR"
      }
    },
    {
      "cell_type": "code",
      "source": [
        "#Existen algunos servicios que ofrece el Iess, entre ellos:\n",
        "nombrepermiso = ['Enfermedad','Maternidad','Atencion de emergencia','Certificados medicos','Agendar citas por Call Center']\n",
        "#Se asignan los permisos aleatoriamente.\n",
        "df['nombreservicio'] = random.choices(\n",
        "    nombrepermiso, \n",
        "    weights=(25,25,25,25,25), \n",
        "    k=num_iess)"
      ],
      "metadata": {
        "id": "N1MRvNuQzZXJ"
      },
      "execution_count": 98,
      "outputs": []
    },
    {
      "cell_type": "markdown",
      "source": [
        "**descripcionservicio**"
      ],
      "metadata": {
        "id": "SdTE0RAk257J"
      }
    },
    {
      "cell_type": "code",
      "source": [
        "#Variale para la descripción de tipo string junto con su longitud de cadena de caracteres\n",
        "bio=[]\n",
        "length_of_string = 25\n",
        "#Crea la descripción de los permisos.\n",
        "for i in range(0, num_iess):\n",
        "  random.seed(datetime.now())\n",
        "  #La descripcion contendra todo tipo de caracteres.\n",
        "  bio=(''.join(random.SystemRandom().choice(string.ascii_letters + string.digits) for i in range(length_of_string)))\n",
        "  #Se guarda la descripcion en el atributo descripcionpermiso\n",
        "  df.descripcionservicio[i] =bio"
      ],
      "metadata": {
        "id": "QAjVnx4d284p"
      },
      "execution_count": 99,
      "outputs": []
    },
    {
      "cell_type": "markdown",
      "source": [
        "**disponibleservicio**"
      ],
      "metadata": {
        "id": "w2KinFZY4FSp"
      }
    },
    {
      "cell_type": "code",
      "source": [
        "#Se identifica si el servicio se encuentra disponible:\n",
        "disponibleservicio = ['Si','No']\n",
        "#Se asignan los permisos aleatoriamente.\n",
        "df['disponibleservicio'] = random.choices(\n",
        "    disponibleservicio, \n",
        "    k=num_iess)"
      ],
      "metadata": {
        "id": "WYMAnl2d4HUJ"
      },
      "execution_count": 100,
      "outputs": []
    },
    {
      "cell_type": "code",
      "source": [
        "df.to_csv('iessserviciossalud.csv')"
      ],
      "metadata": {
        "id": "EI41C7I0i0vS"
      },
      "execution_count": 101,
      "outputs": []
    },
    {
      "cell_type": "code",
      "source": [
        "df.head(5)"
      ],
      "metadata": {
        "colab": {
          "base_uri": "https://localhost:8080/",
          "height": 206
        },
        "id": "GgWQv-8I2xoZ",
        "outputId": "8f98065d-a934-4c74-8d09-f37b93966160"
      },
      "execution_count": 102,
      "outputs": [
        {
          "output_type": "execute_result",
          "data": {
            "text/plain": [
              "                         idservicio                 nombreservicio  \\\n",
              "0  c45821d3ddeb4a85ad30c06d76732a81         Atencion de emergencia   \n",
              "1  828c8b6061954125b1f900d7ddf80b24           Certificados medicos   \n",
              "2  6a674303c1e1441694d362c604a1cdf1  Agendar citas por Call Center   \n",
              "3  34ce3c0418d340ddb174daf6d0213df0                     Enfermedad   \n",
              "4  bfd1736a4fc74440bf99832939310d0a         Atencion de emergencia   \n",
              "\n",
              "         descripcionservicio disponibleservicio  \n",
              "0  p8GqXmCEqhYkE7r6bER6iEknK                 No  \n",
              "1  AGIbk9PH987tBP4QNXmNSm5Fv                 Si  \n",
              "2  LPJCvoC4F45fx9KWFfXNgVcyn                 No  \n",
              "3  O0ZagaptuhDIvczsSrfTKUkLr                 Si  \n",
              "4  PlGL93FJ7eMVy4jCHPKJKCqiI                 No  "
            ],
            "text/html": [
              "\n",
              "  <div id=\"df-341d2755-602f-45a7-ae27-22c00061b912\">\n",
              "    <div class=\"colab-df-container\">\n",
              "      <div>\n",
              "<style scoped>\n",
              "    .dataframe tbody tr th:only-of-type {\n",
              "        vertical-align: middle;\n",
              "    }\n",
              "\n",
              "    .dataframe tbody tr th {\n",
              "        vertical-align: top;\n",
              "    }\n",
              "\n",
              "    .dataframe thead th {\n",
              "        text-align: right;\n",
              "    }\n",
              "</style>\n",
              "<table border=\"1\" class=\"dataframe\">\n",
              "  <thead>\n",
              "    <tr style=\"text-align: right;\">\n",
              "      <th></th>\n",
              "      <th>idservicio</th>\n",
              "      <th>nombreservicio</th>\n",
              "      <th>descripcionservicio</th>\n",
              "      <th>disponibleservicio</th>\n",
              "    </tr>\n",
              "  </thead>\n",
              "  <tbody>\n",
              "    <tr>\n",
              "      <th>0</th>\n",
              "      <td>c45821d3ddeb4a85ad30c06d76732a81</td>\n",
              "      <td>Atencion de emergencia</td>\n",
              "      <td>p8GqXmCEqhYkE7r6bER6iEknK</td>\n",
              "      <td>No</td>\n",
              "    </tr>\n",
              "    <tr>\n",
              "      <th>1</th>\n",
              "      <td>828c8b6061954125b1f900d7ddf80b24</td>\n",
              "      <td>Certificados medicos</td>\n",
              "      <td>AGIbk9PH987tBP4QNXmNSm5Fv</td>\n",
              "      <td>Si</td>\n",
              "    </tr>\n",
              "    <tr>\n",
              "      <th>2</th>\n",
              "      <td>6a674303c1e1441694d362c604a1cdf1</td>\n",
              "      <td>Agendar citas por Call Center</td>\n",
              "      <td>LPJCvoC4F45fx9KWFfXNgVcyn</td>\n",
              "      <td>No</td>\n",
              "    </tr>\n",
              "    <tr>\n",
              "      <th>3</th>\n",
              "      <td>34ce3c0418d340ddb174daf6d0213df0</td>\n",
              "      <td>Enfermedad</td>\n",
              "      <td>O0ZagaptuhDIvczsSrfTKUkLr</td>\n",
              "      <td>Si</td>\n",
              "    </tr>\n",
              "    <tr>\n",
              "      <th>4</th>\n",
              "      <td>bfd1736a4fc74440bf99832939310d0a</td>\n",
              "      <td>Atencion de emergencia</td>\n",
              "      <td>PlGL93FJ7eMVy4jCHPKJKCqiI</td>\n",
              "      <td>No</td>\n",
              "    </tr>\n",
              "  </tbody>\n",
              "</table>\n",
              "</div>\n",
              "      <button class=\"colab-df-convert\" onclick=\"convertToInteractive('df-341d2755-602f-45a7-ae27-22c00061b912')\"\n",
              "              title=\"Convert this dataframe to an interactive table.\"\n",
              "              style=\"display:none;\">\n",
              "        \n",
              "  <svg xmlns=\"http://www.w3.org/2000/svg\" height=\"24px\"viewBox=\"0 0 24 24\"\n",
              "       width=\"24px\">\n",
              "    <path d=\"M0 0h24v24H0V0z\" fill=\"none\"/>\n",
              "    <path d=\"M18.56 5.44l.94 2.06.94-2.06 2.06-.94-2.06-.94-.94-2.06-.94 2.06-2.06.94zm-11 1L8.5 8.5l.94-2.06 2.06-.94-2.06-.94L8.5 2.5l-.94 2.06-2.06.94zm10 10l.94 2.06.94-2.06 2.06-.94-2.06-.94-.94-2.06-.94 2.06-2.06.94z\"/><path d=\"M17.41 7.96l-1.37-1.37c-.4-.4-.92-.59-1.43-.59-.52 0-1.04.2-1.43.59L10.3 9.45l-7.72 7.72c-.78.78-.78 2.05 0 2.83L4 21.41c.39.39.9.59 1.41.59.51 0 1.02-.2 1.41-.59l7.78-7.78 2.81-2.81c.8-.78.8-2.07 0-2.86zM5.41 20L4 18.59l7.72-7.72 1.47 1.35L5.41 20z\"/>\n",
              "  </svg>\n",
              "      </button>\n",
              "      \n",
              "  <style>\n",
              "    .colab-df-container {\n",
              "      display:flex;\n",
              "      flex-wrap:wrap;\n",
              "      gap: 12px;\n",
              "    }\n",
              "\n",
              "    .colab-df-convert {\n",
              "      background-color: #E8F0FE;\n",
              "      border: none;\n",
              "      border-radius: 50%;\n",
              "      cursor: pointer;\n",
              "      display: none;\n",
              "      fill: #1967D2;\n",
              "      height: 32px;\n",
              "      padding: 0 0 0 0;\n",
              "      width: 32px;\n",
              "    }\n",
              "\n",
              "    .colab-df-convert:hover {\n",
              "      background-color: #E2EBFA;\n",
              "      box-shadow: 0px 1px 2px rgba(60, 64, 67, 0.3), 0px 1px 3px 1px rgba(60, 64, 67, 0.15);\n",
              "      fill: #174EA6;\n",
              "    }\n",
              "\n",
              "    [theme=dark] .colab-df-convert {\n",
              "      background-color: #3B4455;\n",
              "      fill: #D2E3FC;\n",
              "    }\n",
              "\n",
              "    [theme=dark] .colab-df-convert:hover {\n",
              "      background-color: #434B5C;\n",
              "      box-shadow: 0px 1px 3px 1px rgba(0, 0, 0, 0.15);\n",
              "      filter: drop-shadow(0px 1px 2px rgba(0, 0, 0, 0.3));\n",
              "      fill: #FFFFFF;\n",
              "    }\n",
              "  </style>\n",
              "\n",
              "      <script>\n",
              "        const buttonEl =\n",
              "          document.querySelector('#df-341d2755-602f-45a7-ae27-22c00061b912 button.colab-df-convert');\n",
              "        buttonEl.style.display =\n",
              "          google.colab.kernel.accessAllowed ? 'block' : 'none';\n",
              "\n",
              "        async function convertToInteractive(key) {\n",
              "          const element = document.querySelector('#df-341d2755-602f-45a7-ae27-22c00061b912');\n",
              "          const dataTable =\n",
              "            await google.colab.kernel.invokeFunction('convertToInteractive',\n",
              "                                                     [key], {});\n",
              "          if (!dataTable) return;\n",
              "\n",
              "          const docLinkHtml = 'Like what you see? Visit the ' +\n",
              "            '<a target=\"_blank\" href=https://colab.research.google.com/notebooks/data_table.ipynb>data table notebook</a>'\n",
              "            + ' to learn more about interactive tables.';\n",
              "          element.innerHTML = '';\n",
              "          dataTable['output_type'] = 'display_data';\n",
              "          await google.colab.output.renderOutput(dataTable, element);\n",
              "          const docLink = document.createElement('div');\n",
              "          docLink.innerHTML = docLinkHtml;\n",
              "          element.appendChild(docLink);\n",
              "        }\n",
              "      </script>\n",
              "    </div>\n",
              "  </div>\n",
              "  "
            ]
          },
          "metadata": {},
          "execution_count": 102
        }
      ]
    }
  ]
}